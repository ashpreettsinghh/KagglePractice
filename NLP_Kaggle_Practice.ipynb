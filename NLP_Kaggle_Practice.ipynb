{
 "cells": [
  {
   "cell_type": "code",
   "execution_count": 1,
   "metadata": {},
   "outputs": [],
   "source": [
    "import pandas as pd\n",
    "import numpy as np\n",
    "import seaborn as sns\n",
    "import matplotlib.pyplot as plt\n",
    "%matplotlib inline"
   ]
  },
  {
   "cell_type": "code",
   "execution_count": 2,
   "metadata": {},
   "outputs": [],
   "source": [
    "path = '/Users/ashpreetsingh/Downloads/vacuum_cleaner_product_reviews.csv'"
   ]
  },
  {
   "cell_type": "code",
   "execution_count": 3,
   "metadata": {},
   "outputs": [],
   "source": [
    "df = pd.read_csv(path)"
   ]
  },
  {
   "cell_type": "code",
   "execution_count": 4,
   "metadata": {},
   "outputs": [
    {
     "data": {
      "text/html": [
       "<div>\n",
       "<style scoped>\n",
       "    .dataframe tbody tr th:only-of-type {\n",
       "        vertical-align: middle;\n",
       "    }\n",
       "\n",
       "    .dataframe tbody tr th {\n",
       "        vertical-align: top;\n",
       "    }\n",
       "\n",
       "    .dataframe thead th {\n",
       "        text-align: right;\n",
       "    }\n",
       "</style>\n",
       "<table border=\"1\" class=\"dataframe\">\n",
       "  <thead>\n",
       "    <tr style=\"text-align: right;\">\n",
       "      <th></th>\n",
       "      <th>ProductID</th>\n",
       "      <th>UserID</th>\n",
       "      <th>ReviewText</th>\n",
       "      <th>Rating</th>\n",
       "    </tr>\n",
       "  </thead>\n",
       "  <tbody>\n",
       "    <tr>\n",
       "      <th>0</th>\n",
       "      <td>B00002N62Y</td>\n",
       "      <td>A2LVMEG7IP5F90</td>\n",
       "      <td>good product and price</td>\n",
       "      <td>4.0</td>\n",
       "    </tr>\n",
       "    <tr>\n",
       "      <th>1</th>\n",
       "      <td>B00002N62Y</td>\n",
       "      <td>A3H3KQLUND2L3K</td>\n",
       "      <td>These belts are $2+ retail and some retailers/...</td>\n",
       "      <td>5.0</td>\n",
       "    </tr>\n",
       "    <tr>\n",
       "      <th>2</th>\n",
       "      <td>B00002N62Y</td>\n",
       "      <td>A3T5EP972YUQV0</td>\n",
       "      <td>These came in a 2 pk and are perfect fit for m...</td>\n",
       "      <td>5.0</td>\n",
       "    </tr>\n",
       "    <tr>\n",
       "      <th>3</th>\n",
       "      <td>B00002N62Y</td>\n",
       "      <td>AIZY1SHWZ6CIQ</td>\n",
       "      <td>So my super fancy vacuum cleaner, the one with...</td>\n",
       "      <td>5.0</td>\n",
       "    </tr>\n",
       "    <tr>\n",
       "      <th>4</th>\n",
       "      <td>B00002N62Y</td>\n",
       "      <td>A28UAJTMBWQYRG</td>\n",
       "      <td>Right one for my eureka.</td>\n",
       "      <td>4.0</td>\n",
       "    </tr>\n",
       "    <tr>\n",
       "      <th>...</th>\n",
       "      <td>...</td>\n",
       "      <td>...</td>\n",
       "      <td>...</td>\n",
       "      <td>...</td>\n",
       "    </tr>\n",
       "    <tr>\n",
       "      <th>39938</th>\n",
       "      <td>B01H65P344</td>\n",
       "      <td>A2CS6YKQU31EKV</td>\n",
       "      <td>Had to return it. It didn't work right out of ...</td>\n",
       "      <td>1.0</td>\n",
       "    </tr>\n",
       "    <tr>\n",
       "      <th>39939</th>\n",
       "      <td>B01H65P344</td>\n",
       "      <td>A25O9X8YYVX9PB</td>\n",
       "      <td>Great product, works well as a replacement bat...</td>\n",
       "      <td>5.0</td>\n",
       "    </tr>\n",
       "    <tr>\n",
       "      <th>39940</th>\n",
       "      <td>B01H65P344</td>\n",
       "      <td>AZPDJA3OM7CEV</td>\n",
       "      <td>Works as well as the Dyson one!</td>\n",
       "      <td>5.0</td>\n",
       "    </tr>\n",
       "    <tr>\n",
       "      <th>39941</th>\n",
       "      <td>B01H65P344</td>\n",
       "      <td>A2ASONGJCSONZR</td>\n",
       "      <td>Works great with my Dyson DC 31. So far the ba...</td>\n",
       "      <td>5.0</td>\n",
       "    </tr>\n",
       "    <tr>\n",
       "      <th>39942</th>\n",
       "      <td>B01H65P344</td>\n",
       "      <td>A2RPCMI5Q7ZZF3</td>\n",
       "      <td>This works just fine on my Dyson and a really ...</td>\n",
       "      <td>5.0</td>\n",
       "    </tr>\n",
       "  </tbody>\n",
       "</table>\n",
       "<p>39943 rows × 4 columns</p>\n",
       "</div>"
      ],
      "text/plain": [
       "        ProductID          UserID  \\\n",
       "0      B00002N62Y  A2LVMEG7IP5F90   \n",
       "1      B00002N62Y  A3H3KQLUND2L3K   \n",
       "2      B00002N62Y  A3T5EP972YUQV0   \n",
       "3      B00002N62Y   AIZY1SHWZ6CIQ   \n",
       "4      B00002N62Y  A28UAJTMBWQYRG   \n",
       "...           ...             ...   \n",
       "39938  B01H65P344  A2CS6YKQU31EKV   \n",
       "39939  B01H65P344  A25O9X8YYVX9PB   \n",
       "39940  B01H65P344   AZPDJA3OM7CEV   \n",
       "39941  B01H65P344  A2ASONGJCSONZR   \n",
       "39942  B01H65P344  A2RPCMI5Q7ZZF3   \n",
       "\n",
       "                                              ReviewText  Rating  \n",
       "0                                 good product and price     4.0  \n",
       "1      These belts are $2+ retail and some retailers/...     5.0  \n",
       "2      These came in a 2 pk and are perfect fit for m...     5.0  \n",
       "3      So my super fancy vacuum cleaner, the one with...     5.0  \n",
       "4                               Right one for my eureka.     4.0  \n",
       "...                                                  ...     ...  \n",
       "39938  Had to return it. It didn't work right out of ...     1.0  \n",
       "39939  Great product, works well as a replacement bat...     5.0  \n",
       "39940                    Works as well as the Dyson one!     5.0  \n",
       "39941  Works great with my Dyson DC 31. So far the ba...     5.0  \n",
       "39942  This works just fine on my Dyson and a really ...     5.0  \n",
       "\n",
       "[39943 rows x 4 columns]"
      ]
     },
     "execution_count": 4,
     "metadata": {},
     "output_type": "execute_result"
    }
   ],
   "source": [
    "df"
   ]
  },
  {
   "cell_type": "code",
   "execution_count": 5,
   "metadata": {},
   "outputs": [],
   "source": [
    "grouped_ratings = df.groupby('Rating').count()['ProductID']"
   ]
  },
  {
   "cell_type": "code",
   "execution_count": 6,
   "metadata": {},
   "outputs": [
    {
     "data": {
      "text/plain": [
       "<AxesSubplot:xlabel='Rating'>"
      ]
     },
     "execution_count": 6,
     "metadata": {},
     "output_type": "execute_result"
    },
    {
     "data": {
      "image/png": "[encoded data removed]",
      "text/plain": [
       "<Figure size 432x288 with 1 Axes>"
      ]
     },
     "metadata": {
      "needs_background": "light"
     },
     "output_type": "display_data"
    }
   ],
   "source": [
    "grouped_ratings.plot()"
   ]
  },
  {
   "cell_type": "markdown",
   "metadata": {},
   "source": [
    "### this show that more reviews have a rating of 5 or 4"
   ]
  },
  {
   "cell_type": "code",
   "execution_count": 7,
   "metadata": {},
   "outputs": [],
   "source": [
    "df['length of review'] = df['ReviewText'].apply(len)"
   ]
  },
  {
   "cell_type": "code",
   "execution_count": 8,
   "metadata": {},
   "outputs": [],
   "source": [
    "length_vs_rating = df.groupby('Rating').count()['length of review']"
   ]
  },
  {
   "cell_type": "code",
   "execution_count": 9,
   "metadata": {},
   "outputs": [
    {
     "data": {
      "text/plain": [
       "<AxesSubplot:xlabel='Rating'>"
      ]
     },
     "execution_count": 9,
     "metadata": {},
     "output_type": "execute_result"
    },
    {
     "data": {
      "image/png": "[encoded data removed]",
      "text/plain": [
       "<Figure size 432x288 with 1 Axes>"
      ]
     },
     "metadata": {
      "needs_background": "light"
     },
     "output_type": "display_data"
    }
   ],
   "source": [
    "length_vs_rating.plot()"
   ]
  },
  {
   "cell_type": "markdown",
   "metadata": {},
   "source": [
    "This shows that the higher the length of the review the better the rating"
   ]
  },
  {
   "cell_type": "code",
   "execution_count": 10,
   "metadata": {},
   "outputs": [
    {
     "data": {
      "text/plain": [
       "Rating\n",
       "1.0     3192\n",
       "2.0     2158\n",
       "3.0     3091\n",
       "4.0     6714\n",
       "5.0    24788\n",
       "Name: length of review, dtype: int64"
      ]
     },
     "execution_count": 10,
     "metadata": {},
     "output_type": "execute_result"
    }
   ],
   "source": [
    "length_vs_rating"
   ]
  },
  {
   "cell_type": "code",
   "execution_count": 11,
   "metadata": {},
   "outputs": [],
   "source": [
    "def analysed(val):\n",
    "    if val==3:\n",
    "        return \"Avg\"\n",
    "    if val<=2:\n",
    "        return \"Poor\"\n",
    "    if val>=4:\n",
    "        return \"Good\""
   ]
  },
  {
   "cell_type": "code",
   "execution_count": 12,
   "metadata": {},
   "outputs": [],
   "source": [
    "df['rating_type'] = df['Rating'].apply(analysed)"
   ]
  },
  {
   "cell_type": "code",
   "execution_count": 13,
   "metadata": {},
   "outputs": [
    {
     "data": {
      "text/plain": [
       "739"
      ]
     },
     "execution_count": 13,
     "metadata": {},
     "output_type": "execute_result"
    }
   ],
   "source": [
    "df['ProductID'].nunique()"
   ]
  },
  {
   "cell_type": "markdown",
   "metadata": {},
   "source": [
    "this shows that the above dataset have 739 unique products"
   ]
  },
  {
   "cell_type": "code",
   "execution_count": 14,
   "metadata": {},
   "outputs": [
    {
     "data": {
      "text/plain": [
       "<AxesSubplot:xlabel='rating_type', ylabel='count'>"
      ]
     },
     "execution_count": 14,
     "metadata": {},
     "output_type": "execute_result"
    },
    {
     "data": {
      "image/png": "[encoded data removed]",
      "text/plain": [
       "<Figure size 432x288 with 1 Axes>"
      ]
     },
     "metadata": {
      "needs_background": "light"
     },
     "output_type": "display_data"
    }
   ],
   "source": [
    "sns.countplot(x='rating_type',data=df)"
   ]
  },
  {
   "cell_type": "code",
   "execution_count": 15,
   "metadata": {},
   "outputs": [
    {
     "data": {
      "text/plain": [
       "ProductID\n",
       "B00KZN5PC0    5.0\n",
       "B00N2DJ4BS    5.0\n",
       "B0012XUYJ6    5.0\n",
       "B009SC81AW    5.0\n",
       "B0013J6C2C    5.0\n",
       "Name: Rating, dtype: float64"
      ]
     },
     "execution_count": 15,
     "metadata": {},
     "output_type": "execute_result"
    }
   ],
   "source": [
    "df.groupby('ProductID')['Rating'].mean().sort_values(ascending=False).head()"
   ]
  },
  {
   "cell_type": "markdown",
   "metadata": {},
   "source": [
    "the above shows the top 5 products with best ratings"
   ]
  },
  {
   "cell_type": "code",
   "execution_count": 16,
   "metadata": {},
   "outputs": [
    {
     "data": {
      "text/plain": [
       "B001PB8EJ2    2306\n",
       "B0016NP14A    1516\n",
       "B0014SQVKK    1421\n",
       "B00OHTKVM2    1334\n",
       "B00002N8CX    1314\n",
       "Name: ProductID, dtype: int64"
      ]
     },
     "execution_count": 16,
     "metadata": {},
     "output_type": "execute_result"
    }
   ],
   "source": [
    "df['ProductID'].value_counts().head()"
   ]
  },
  {
   "cell_type": "markdown",
   "metadata": {},
   "source": [
    "the above shows the top 5 most reviewed products"
   ]
  },
  {
   "cell_type": "code",
   "execution_count": 17,
   "metadata": {},
   "outputs": [
    {
     "data": {
      "text/plain": [
       "4.332176929748482"
      ]
     },
     "execution_count": 17,
     "metadata": {},
     "output_type": "execute_result"
    }
   ],
   "source": [
    "df[df['ProductID']=='B001PB8EJ2']['Rating'].mean()"
   ]
  },
  {
   "cell_type": "markdown",
   "metadata": {},
   "source": [
    "the most number of times reviewed product has rating of 4.33"
   ]
  },
  {
   "cell_type": "code",
   "execution_count": 18,
   "metadata": {},
   "outputs": [
    {
     "data": {
      "text/plain": [
       "B0012XUYJ6    1\n",
       "B0015YULO0    3\n",
       "B0013J6C2C    3\n",
       "B00106TGAS    3\n",
       "B01FLG3ONW    4\n",
       "Name: ProductID, dtype: int64"
      ]
     },
     "execution_count": 18,
     "metadata": {},
     "output_type": "execute_result"
    }
   ],
   "source": [
    "df['ProductID'].value_counts().sort_values().head()"
   ]
  },
  {
   "cell_type": "code",
   "execution_count": 19,
   "metadata": {},
   "outputs": [
    {
     "data": {
      "text/html": [
       "<div>\n",
       "<style scoped>\n",
       "    .dataframe tbody tr th:only-of-type {\n",
       "        vertical-align: middle;\n",
       "    }\n",
       "\n",
       "    .dataframe tbody tr th {\n",
       "        vertical-align: top;\n",
       "    }\n",
       "\n",
       "    .dataframe thead th {\n",
       "        text-align: right;\n",
       "    }\n",
       "</style>\n",
       "<table border=\"1\" class=\"dataframe\">\n",
       "  <thead>\n",
       "    <tr style=\"text-align: right;\">\n",
       "      <th></th>\n",
       "      <th>ProductID</th>\n",
       "      <th>UserID</th>\n",
       "      <th>ReviewText</th>\n",
       "      <th>Rating</th>\n",
       "      <th>length of review</th>\n",
       "      <th>rating_type</th>\n",
       "    </tr>\n",
       "  </thead>\n",
       "  <tbody>\n",
       "    <tr>\n",
       "      <th>39819</th>\n",
       "      <td>B0012XUYJ6</td>\n",
       "      <td>AEJOU14WZAGWF</td>\n",
       "      <td>I bought this vacuum because I have two dogs a...</td>\n",
       "      <td>5.0</td>\n",
       "      <td>1261</td>\n",
       "      <td>Good</td>\n",
       "    </tr>\n",
       "  </tbody>\n",
       "</table>\n",
       "</div>"
      ],
      "text/plain": [
       "        ProductID         UserID  \\\n",
       "39819  B0012XUYJ6  AEJOU14WZAGWF   \n",
       "\n",
       "                                              ReviewText  Rating  \\\n",
       "39819  I bought this vacuum because I have two dogs a...     5.0   \n",
       "\n",
       "       length of review rating_type  \n",
       "39819              1261        Good  "
      ]
     },
     "execution_count": 19,
     "metadata": {},
     "output_type": "execute_result"
    }
   ],
   "source": [
    "df[df['ProductID']=='B0012XUYJ6']"
   ]
  },
  {
   "cell_type": "markdown",
   "metadata": {},
   "source": [
    "the above product is only reviewed once"
   ]
  },
  {
   "cell_type": "code",
   "execution_count": 20,
   "metadata": {},
   "outputs": [
    {
     "data": {
      "text/plain": [
       "\"I bought this vacuum because I have two dogs and found I am allergic to dog dander.  This vacuum has a sealed system and it doesn't have the leaks that other vacuums have around the exit system filters.  It has a Small HEPA filter that gets replaced every four bags(and comes in the box of 4 bags).  It has a very hefty charcoal filter as well just like a room air cleaner(replaced one a year).  It doesn't reciruclate the dustmite feces back in the air.  It captures it.  After the first use the house smelled better because of the charcoal filter as well.  It has great suction and picks up the hair far faster than my old Electrolux.  I can't say enough about how much we like this vacuum.\\n\\nIt came with three cleaning heads. The carpet with the rotating head, the regular hardwood floor head (fits great right up to the walls and corners) and picks up everything.  It also has a small rotating handheld head  that is great on furniture and stairs.\\n\\nIt is a pricy vacuum. It was worth every last penny of the cost.  We already had a Meile dishwasher that is now 6 years old and running the same as the day we bought it.  So far this vacuum has the same quality as the dishwasher.  The phrase you get what you pay for is very true.  This is a quality company.\""
      ]
     },
     "execution_count": 20,
     "metadata": {},
     "output_type": "execute_result"
    }
   ],
   "source": [
    "df[df['ProductID']=='B0012XUYJ6']['ReviewText'].iloc[0]"
   ]
  },
  {
   "cell_type": "markdown",
   "metadata": {},
   "source": [
    "review for the product id - B0012XUYJ6"
   ]
  },
  {
   "cell_type": "code",
   "execution_count": 21,
   "metadata": {},
   "outputs": [],
   "source": [
    "from nltk.stem import PorterStemmer"
   ]
  },
  {
   "cell_type": "code",
   "execution_count": 22,
   "metadata": {},
   "outputs": [],
   "source": [
    "from nltk.tokenize import word_tokenize"
   ]
  },
  {
   "cell_type": "code",
   "execution_count": 23,
   "metadata": {},
   "outputs": [],
   "source": [
    "porter = PorterStemmer()"
   ]
  },
  {
   "cell_type": "code",
   "execution_count": 24,
   "metadata": {},
   "outputs": [],
   "source": [
    "def stem_func(review):\n",
    "    words = word_tokenize(review)\n",
    "    stemmed_words = []\n",
    "    for word in words:\n",
    "        stemmed_words.append(porter.stem(word))\n",
    "    stemmed_text = \" \".join(stemmed_words)\n",
    "    return stemmed_text"
   ]
  },
  {
   "cell_type": "code",
   "execution_count": 25,
   "metadata": {},
   "outputs": [
    {
     "data": {
      "text/plain": [
       "0                                   good product and price\n",
       "1        these belt are $ 2+ retail and some retailers/...\n",
       "2        these came in a 2 pk and are perfect fit for m...\n",
       "3        so my super fanci vacuum cleaner , the one wit...\n",
       "4                                right one for my eureka .\n",
       "                               ...                        \n",
       "39938    had to return it . it did n't work right out o...\n",
       "39939    great product , work well as a replac batteri ...\n",
       "39940                      work as well as the dyson one !\n",
       "39941    work great with my dyson dc 31 . so far the ba...\n",
       "39942    thi work just fine on my dyson and a realli go...\n",
       "Name: ReviewText, Length: 39943, dtype: object"
      ]
     },
     "execution_count": 25,
     "metadata": {},
     "output_type": "execute_result"
    }
   ],
   "source": [
    "df['ReviewText'].apply(stem_func)"
   ]
  },
  {
   "cell_type": "code",
   "execution_count": 26,
   "metadata": {},
   "outputs": [],
   "source": [
    "from nltk.corpus import stopwords"
   ]
  },
  {
   "cell_type": "code",
   "execution_count": 27,
   "metadata": {},
   "outputs": [],
   "source": [
    "stopwordlist = stopwords.words('english')"
   ]
  },
  {
   "cell_type": "code",
   "execution_count": 28,
   "metadata": {},
   "outputs": [],
   "source": [
    "import string"
   ]
  },
  {
   "cell_type": "code",
   "execution_count": 29,
   "metadata": {},
   "outputs": [],
   "source": [
    "corpus = []"
   ]
  },
  {
   "cell_type": "code",
   "execution_count": 30,
   "metadata": {},
   "outputs": [],
   "source": [
    "def remove_stop_words(review_text):\n",
    "    review_text = review_text.lower()\n",
    "    for punctuation in string.punctuation:\n",
    "        review_text = review_text.replace(punctuation, '')\n",
    "    words = review_text.split()\n",
    "    string1 = \"\"\n",
    "    for word in words:\n",
    "        if word.lower() in stopwordlist:\n",
    "            pass\n",
    "        else:\n",
    "            string1=string1+\" \"+word\n",
    "    corpus.append(string1)\n",
    "    return string1"
   ]
  },
  {
   "cell_type": "code",
   "execution_count": 31,
   "metadata": {},
   "outputs": [],
   "source": [
    "df['new_review'] = df['ReviewText'].apply(remove_stop_words)"
   ]
  },
  {
   "cell_type": "code",
   "execution_count": 32,
   "metadata": {},
   "outputs": [
    {
     "data": {
      "text/html": [
       "<div>\n",
       "<style scoped>\n",
       "    .dataframe tbody tr th:only-of-type {\n",
       "        vertical-align: middle;\n",
       "    }\n",
       "\n",
       "    .dataframe tbody tr th {\n",
       "        vertical-align: top;\n",
       "    }\n",
       "\n",
       "    .dataframe thead th {\n",
       "        text-align: right;\n",
       "    }\n",
       "</style>\n",
       "<table border=\"1\" class=\"dataframe\">\n",
       "  <thead>\n",
       "    <tr style=\"text-align: right;\">\n",
       "      <th></th>\n",
       "      <th>ProductID</th>\n",
       "      <th>UserID</th>\n",
       "      <th>ReviewText</th>\n",
       "      <th>Rating</th>\n",
       "      <th>length of review</th>\n",
       "      <th>rating_type</th>\n",
       "      <th>new_review</th>\n",
       "    </tr>\n",
       "  </thead>\n",
       "  <tbody>\n",
       "    <tr>\n",
       "      <th>0</th>\n",
       "      <td>B00002N62Y</td>\n",
       "      <td>A2LVMEG7IP5F90</td>\n",
       "      <td>good product and price</td>\n",
       "      <td>4.0</td>\n",
       "      <td>22</td>\n",
       "      <td>Good</td>\n",
       "      <td>good product price</td>\n",
       "    </tr>\n",
       "    <tr>\n",
       "      <th>1</th>\n",
       "      <td>B00002N62Y</td>\n",
       "      <td>A3H3KQLUND2L3K</td>\n",
       "      <td>These belts are $2+ retail and some retailers/...</td>\n",
       "      <td>5.0</td>\n",
       "      <td>130</td>\n",
       "      <td>Good</td>\n",
       "      <td>belts 2 retail retailerssellers use genericno...</td>\n",
       "    </tr>\n",
       "    <tr>\n",
       "      <th>2</th>\n",
       "      <td>B00002N62Y</td>\n",
       "      <td>A3T5EP972YUQV0</td>\n",
       "      <td>These came in a 2 pk and are perfect fit for m...</td>\n",
       "      <td>5.0</td>\n",
       "      <td>127</td>\n",
       "      <td>Good</td>\n",
       "      <td>came 2 pk perfect fit good old vac seem stron...</td>\n",
       "    </tr>\n",
       "    <tr>\n",
       "      <th>3</th>\n",
       "      <td>B00002N62Y</td>\n",
       "      <td>AIZY1SHWZ6CIQ</td>\n",
       "      <td>So my super fancy vacuum cleaner, the one with...</td>\n",
       "      <td>5.0</td>\n",
       "      <td>2098</td>\n",
       "      <td>Good</td>\n",
       "      <td>super fancy vacuum cleaner one cold fusion re...</td>\n",
       "    </tr>\n",
       "    <tr>\n",
       "      <th>4</th>\n",
       "      <td>B00002N62Y</td>\n",
       "      <td>A28UAJTMBWQYRG</td>\n",
       "      <td>Right one for my eureka.</td>\n",
       "      <td>4.0</td>\n",
       "      <td>24</td>\n",
       "      <td>Good</td>\n",
       "      <td>right one eureka</td>\n",
       "    </tr>\n",
       "    <tr>\n",
       "      <th>...</th>\n",
       "      <td>...</td>\n",
       "      <td>...</td>\n",
       "      <td>...</td>\n",
       "      <td>...</td>\n",
       "      <td>...</td>\n",
       "      <td>...</td>\n",
       "      <td>...</td>\n",
       "    </tr>\n",
       "    <tr>\n",
       "      <th>39938</th>\n",
       "      <td>B01H65P344</td>\n",
       "      <td>A2CS6YKQU31EKV</td>\n",
       "      <td>Had to return it. It didn't work right out of ...</td>\n",
       "      <td>1.0</td>\n",
       "      <td>54</td>\n",
       "      <td>Poor</td>\n",
       "      <td>return didnt work right box</td>\n",
       "    </tr>\n",
       "    <tr>\n",
       "      <th>39939</th>\n",
       "      <td>B01H65P344</td>\n",
       "      <td>A25O9X8YYVX9PB</td>\n",
       "      <td>Great product, works well as a replacement bat...</td>\n",
       "      <td>5.0</td>\n",
       "      <td>61</td>\n",
       "      <td>Good</td>\n",
       "      <td>great product works well replacement battery ...</td>\n",
       "    </tr>\n",
       "    <tr>\n",
       "      <th>39940</th>\n",
       "      <td>B01H65P344</td>\n",
       "      <td>AZPDJA3OM7CEV</td>\n",
       "      <td>Works as well as the Dyson one!</td>\n",
       "      <td>5.0</td>\n",
       "      <td>31</td>\n",
       "      <td>Good</td>\n",
       "      <td>works well dyson one</td>\n",
       "    </tr>\n",
       "    <tr>\n",
       "      <th>39941</th>\n",
       "      <td>B01H65P344</td>\n",
       "      <td>A2ASONGJCSONZR</td>\n",
       "      <td>Works great with my Dyson DC 31. So far the ba...</td>\n",
       "      <td>5.0</td>\n",
       "      <td>101</td>\n",
       "      <td>Good</td>\n",
       "      <td>works great dyson dc 31 far battery good char...</td>\n",
       "    </tr>\n",
       "    <tr>\n",
       "      <th>39942</th>\n",
       "      <td>B01H65P344</td>\n",
       "      <td>A2RPCMI5Q7ZZF3</td>\n",
       "      <td>This works just fine on my Dyson and a really ...</td>\n",
       "      <td>5.0</td>\n",
       "      <td>57</td>\n",
       "      <td>Good</td>\n",
       "      <td>works fine dyson really good price</td>\n",
       "    </tr>\n",
       "  </tbody>\n",
       "</table>\n",
       "<p>39943 rows × 7 columns</p>\n",
       "</div>"
      ],
      "text/plain": [
       "        ProductID          UserID  \\\n",
       "0      B00002N62Y  A2LVMEG7IP5F90   \n",
       "1      B00002N62Y  A3H3KQLUND2L3K   \n",
       "2      B00002N62Y  A3T5EP972YUQV0   \n",
       "3      B00002N62Y   AIZY1SHWZ6CIQ   \n",
       "4      B00002N62Y  A28UAJTMBWQYRG   \n",
       "...           ...             ...   \n",
       "39938  B01H65P344  A2CS6YKQU31EKV   \n",
       "39939  B01H65P344  A25O9X8YYVX9PB   \n",
       "39940  B01H65P344   AZPDJA3OM7CEV   \n",
       "39941  B01H65P344  A2ASONGJCSONZR   \n",
       "39942  B01H65P344  A2RPCMI5Q7ZZF3   \n",
       "\n",
       "                                              ReviewText  Rating  \\\n",
       "0                                 good product and price     4.0   \n",
       "1      These belts are $2+ retail and some retailers/...     5.0   \n",
       "2      These came in a 2 pk and are perfect fit for m...     5.0   \n",
       "3      So my super fancy vacuum cleaner, the one with...     5.0   \n",
       "4                               Right one for my eureka.     4.0   \n",
       "...                                                  ...     ...   \n",
       "39938  Had to return it. It didn't work right out of ...     1.0   \n",
       "39939  Great product, works well as a replacement bat...     5.0   \n",
       "39940                    Works as well as the Dyson one!     5.0   \n",
       "39941  Works great with my Dyson DC 31. So far the ba...     5.0   \n",
       "39942  This works just fine on my Dyson and a really ...     5.0   \n",
       "\n",
       "       length of review rating_type  \\\n",
       "0                    22        Good   \n",
       "1                   130        Good   \n",
       "2                   127        Good   \n",
       "3                  2098        Good   \n",
       "4                    24        Good   \n",
       "...                 ...         ...   \n",
       "39938                54        Poor   \n",
       "39939                61        Good   \n",
       "39940                31        Good   \n",
       "39941               101        Good   \n",
       "39942                57        Good   \n",
       "\n",
       "                                              new_review  \n",
       "0                                     good product price  \n",
       "1       belts 2 retail retailerssellers use genericno...  \n",
       "2       came 2 pk perfect fit good old vac seem stron...  \n",
       "3       super fancy vacuum cleaner one cold fusion re...  \n",
       "4                                       right one eureka  \n",
       "...                                                  ...  \n",
       "39938                        return didnt work right box  \n",
       "39939   great product works well replacement battery ...  \n",
       "39940                               works well dyson one  \n",
       "39941   works great dyson dc 31 far battery good char...  \n",
       "39942                 works fine dyson really good price  \n",
       "\n",
       "[39943 rows x 7 columns]"
      ]
     },
     "execution_count": 32,
     "metadata": {},
     "output_type": "execute_result"
    }
   ],
   "source": [
    "df"
   ]
  },
  {
   "cell_type": "code",
   "execution_count": 33,
   "metadata": {},
   "outputs": [],
   "source": [
    "from nltk.sentiment import SentimentIntensityAnalyzer\n",
    "from tqdm.notebook import tqdm\n",
    "\n",
    "sia = SentimentIntensityAnalyzer()"
   ]
  },
  {
   "cell_type": "code",
   "execution_count": 34,
   "metadata": {},
   "outputs": [],
   "source": [
    "def senti_adder(review):\n",
    "    return sia.polarity_scores(review)['compound']"
   ]
  },
  {
   "cell_type": "code",
   "execution_count": 35,
   "metadata": {},
   "outputs": [],
   "source": [
    "df['compound_scores'] = df['ReviewText'].apply(senti_adder)"
   ]
  },
  {
   "cell_type": "code",
   "execution_count": 36,
   "metadata": {},
   "outputs": [
    {
     "data": {
      "text/plain": [
       "<AxesSubplot:xlabel='Rating', ylabel='compound_scores'>"
      ]
     },
     "execution_count": 36,
     "metadata": {},
     "output_type": "execute_result"
    },
    {
     "data": {
      "image/png": "[encoded data removed]",
      "text/plain": [
       "<Figure size 432x288 with 1 Axes>"
      ]
     },
     "metadata": {
      "needs_background": "light"
     },
     "output_type": "display_data"
    }
   ],
   "source": [
    "sns.boxplot(x=df['Rating'],y=df['compound_scores'])"
   ]
  },
  {
   "cell_type": "code",
   "execution_count": 37,
   "metadata": {},
   "outputs": [
    {
     "data": {
      "text/html": [
       "<div>\n",
       "<style scoped>\n",
       "    .dataframe tbody tr th:only-of-type {\n",
       "        vertical-align: middle;\n",
       "    }\n",
       "\n",
       "    .dataframe tbody tr th {\n",
       "        vertical-align: top;\n",
       "    }\n",
       "\n",
       "    .dataframe thead th {\n",
       "        text-align: right;\n",
       "    }\n",
       "</style>\n",
       "<table border=\"1\" class=\"dataframe\">\n",
       "  <thead>\n",
       "    <tr style=\"text-align: right;\">\n",
       "      <th></th>\n",
       "      <th>ProductID</th>\n",
       "      <th>UserID</th>\n",
       "      <th>ReviewText</th>\n",
       "      <th>Rating</th>\n",
       "      <th>length of review</th>\n",
       "      <th>rating_type</th>\n",
       "      <th>new_review</th>\n",
       "      <th>compound_scores</th>\n",
       "    </tr>\n",
       "  </thead>\n",
       "  <tbody>\n",
       "    <tr>\n",
       "      <th>0</th>\n",
       "      <td>B00002N62Y</td>\n",
       "      <td>A2LVMEG7IP5F90</td>\n",
       "      <td>good product and price</td>\n",
       "      <td>4.0</td>\n",
       "      <td>22</td>\n",
       "      <td>Good</td>\n",
       "      <td>good product price</td>\n",
       "      <td>0.4404</td>\n",
       "    </tr>\n",
       "    <tr>\n",
       "      <th>1</th>\n",
       "      <td>B00002N62Y</td>\n",
       "      <td>A3H3KQLUND2L3K</td>\n",
       "      <td>These belts are $2+ retail and some retailers/...</td>\n",
       "      <td>5.0</td>\n",
       "      <td>130</td>\n",
       "      <td>Good</td>\n",
       "      <td>belts 2 retail retailerssellers use genericno...</td>\n",
       "      <td>0.0000</td>\n",
       "    </tr>\n",
       "    <tr>\n",
       "      <th>2</th>\n",
       "      <td>B00002N62Y</td>\n",
       "      <td>A3T5EP972YUQV0</td>\n",
       "      <td>These came in a 2 pk and are perfect fit for m...</td>\n",
       "      <td>5.0</td>\n",
       "      <td>127</td>\n",
       "      <td>Good</td>\n",
       "      <td>came 2 pk perfect fit good old vac seem stron...</td>\n",
       "      <td>0.9446</td>\n",
       "    </tr>\n",
       "    <tr>\n",
       "      <th>3</th>\n",
       "      <td>B00002N62Y</td>\n",
       "      <td>AIZY1SHWZ6CIQ</td>\n",
       "      <td>So my super fancy vacuum cleaner, the one with...</td>\n",
       "      <td>5.0</td>\n",
       "      <td>2098</td>\n",
       "      <td>Good</td>\n",
       "      <td>super fancy vacuum cleaner one cold fusion re...</td>\n",
       "      <td>0.9828</td>\n",
       "    </tr>\n",
       "    <tr>\n",
       "      <th>4</th>\n",
       "      <td>B00002N62Y</td>\n",
       "      <td>A28UAJTMBWQYRG</td>\n",
       "      <td>Right one for my eureka.</td>\n",
       "      <td>4.0</td>\n",
       "      <td>24</td>\n",
       "      <td>Good</td>\n",
       "      <td>right one eureka</td>\n",
       "      <td>0.0000</td>\n",
       "    </tr>\n",
       "    <tr>\n",
       "      <th>...</th>\n",
       "      <td>...</td>\n",
       "      <td>...</td>\n",
       "      <td>...</td>\n",
       "      <td>...</td>\n",
       "      <td>...</td>\n",
       "      <td>...</td>\n",
       "      <td>...</td>\n",
       "      <td>...</td>\n",
       "    </tr>\n",
       "    <tr>\n",
       "      <th>39938</th>\n",
       "      <td>B01H65P344</td>\n",
       "      <td>A2CS6YKQU31EKV</td>\n",
       "      <td>Had to return it. It didn't work right out of ...</td>\n",
       "      <td>1.0</td>\n",
       "      <td>54</td>\n",
       "      <td>Poor</td>\n",
       "      <td>return didnt work right box</td>\n",
       "      <td>0.0000</td>\n",
       "    </tr>\n",
       "    <tr>\n",
       "      <th>39939</th>\n",
       "      <td>B01H65P344</td>\n",
       "      <td>A25O9X8YYVX9PB</td>\n",
       "      <td>Great product, works well as a replacement bat...</td>\n",
       "      <td>5.0</td>\n",
       "      <td>61</td>\n",
       "      <td>Good</td>\n",
       "      <td>great product works well replacement battery ...</td>\n",
       "      <td>0.8932</td>\n",
       "    </tr>\n",
       "    <tr>\n",
       "      <th>39940</th>\n",
       "      <td>B01H65P344</td>\n",
       "      <td>AZPDJA3OM7CEV</td>\n",
       "      <td>Works as well as the Dyson one!</td>\n",
       "      <td>5.0</td>\n",
       "      <td>31</td>\n",
       "      <td>Good</td>\n",
       "      <td>works well dyson one</td>\n",
       "      <td>0.3382</td>\n",
       "    </tr>\n",
       "    <tr>\n",
       "      <th>39941</th>\n",
       "      <td>B01H65P344</td>\n",
       "      <td>A2ASONGJCSONZR</td>\n",
       "      <td>Works great with my Dyson DC 31. So far the ba...</td>\n",
       "      <td>5.0</td>\n",
       "      <td>101</td>\n",
       "      <td>Good</td>\n",
       "      <td>works great dyson dc 31 far battery good char...</td>\n",
       "      <td>0.8834</td>\n",
       "    </tr>\n",
       "    <tr>\n",
       "      <th>39942</th>\n",
       "      <td>B01H65P344</td>\n",
       "      <td>A2RPCMI5Q7ZZF3</td>\n",
       "      <td>This works just fine on my Dyson and a really ...</td>\n",
       "      <td>5.0</td>\n",
       "      <td>57</td>\n",
       "      <td>Good</td>\n",
       "      <td>works fine dyson really good price</td>\n",
       "      <td>0.6115</td>\n",
       "    </tr>\n",
       "  </tbody>\n",
       "</table>\n",
       "<p>39943 rows × 8 columns</p>\n",
       "</div>"
      ],
      "text/plain": [
       "        ProductID          UserID  \\\n",
       "0      B00002N62Y  A2LVMEG7IP5F90   \n",
       "1      B00002N62Y  A3H3KQLUND2L3K   \n",
       "2      B00002N62Y  A3T5EP972YUQV0   \n",
       "3      B00002N62Y   AIZY1SHWZ6CIQ   \n",
       "4      B00002N62Y  A28UAJTMBWQYRG   \n",
       "...           ...             ...   \n",
       "39938  B01H65P344  A2CS6YKQU31EKV   \n",
       "39939  B01H65P344  A25O9X8YYVX9PB   \n",
       "39940  B01H65P344   AZPDJA3OM7CEV   \n",
       "39941  B01H65P344  A2ASONGJCSONZR   \n",
       "39942  B01H65P344  A2RPCMI5Q7ZZF3   \n",
       "\n",
       "                                              ReviewText  Rating  \\\n",
       "0                                 good product and price     4.0   \n",
       "1      These belts are $2+ retail and some retailers/...     5.0   \n",
       "2      These came in a 2 pk and are perfect fit for m...     5.0   \n",
       "3      So my super fancy vacuum cleaner, the one with...     5.0   \n",
       "4                               Right one for my eureka.     4.0   \n",
       "...                                                  ...     ...   \n",
       "39938  Had to return it. It didn't work right out of ...     1.0   \n",
       "39939  Great product, works well as a replacement bat...     5.0   \n",
       "39940                    Works as well as the Dyson one!     5.0   \n",
       "39941  Works great with my Dyson DC 31. So far the ba...     5.0   \n",
       "39942  This works just fine on my Dyson and a really ...     5.0   \n",
       "\n",
       "       length of review rating_type  \\\n",
       "0                    22        Good   \n",
       "1                   130        Good   \n",
       "2                   127        Good   \n",
       "3                  2098        Good   \n",
       "4                    24        Good   \n",
       "...                 ...         ...   \n",
       "39938                54        Poor   \n",
       "39939                61        Good   \n",
       "39940                31        Good   \n",
       "39941               101        Good   \n",
       "39942                57        Good   \n",
       "\n",
       "                                              new_review  compound_scores  \n",
       "0                                     good product price           0.4404  \n",
       "1       belts 2 retail retailerssellers use genericno...           0.0000  \n",
       "2       came 2 pk perfect fit good old vac seem stron...           0.9446  \n",
       "3       super fancy vacuum cleaner one cold fusion re...           0.9828  \n",
       "4                                       right one eureka           0.0000  \n",
       "...                                                  ...              ...  \n",
       "39938                        return didnt work right box           0.0000  \n",
       "39939   great product works well replacement battery ...           0.8932  \n",
       "39940                               works well dyson one           0.3382  \n",
       "39941   works great dyson dc 31 far battery good char...           0.8834  \n",
       "39942                 works fine dyson really good price           0.6115  \n",
       "\n",
       "[39943 rows x 8 columns]"
      ]
     },
     "execution_count": 37,
     "metadata": {},
     "output_type": "execute_result"
    }
   ],
   "source": [
    "df"
   ]
  },
  {
   "cell_type": "code",
   "execution_count": 38,
   "metadata": {},
   "outputs": [
    {
     "data": {
      "text/plain": [
       "34244"
      ]
     },
     "execution_count": 38,
     "metadata": {},
     "output_type": "execute_result"
    }
   ],
   "source": [
    "df['UserID'].nunique()"
   ]
  },
  {
   "cell_type": "markdown",
   "metadata": {},
   "source": [
    "the above cell shows there are 34244 users who have recieved different kinds of products"
   ]
  },
  {
   "cell_type": "code",
   "execution_count": 39,
   "metadata": {},
   "outputs": [
    {
     "data": {
      "text/plain": [
       "A2ZY49IDE6TY5I    7\n",
       "A2R1HUYHXV7H18    6\n",
       "A100WO06OQR8BQ    6\n",
       "A17HMM1M7T9PJ1    6\n",
       "A3963R7EPE3A7E    6\n",
       "                 ..\n",
       "A3D8MRAS52BT2F    1\n",
       "A39DM8XANM7BYG    1\n",
       "A3E4LQR8F32NI1    1\n",
       "AK0NFAAF2U3OF     1\n",
       "A2RPCMI5Q7ZZF3    1\n",
       "Name: UserID, Length: 34244, dtype: int64"
      ]
     },
     "execution_count": 39,
     "metadata": {},
     "output_type": "execute_result"
    }
   ],
   "source": [
    "df['UserID'].value_counts()"
   ]
  },
  {
   "cell_type": "markdown",
   "metadata": {},
   "source": [
    "one of the customers wrote 7 reviews "
   ]
  },
  {
   "cell_type": "code",
   "execution_count": 40,
   "metadata": {},
   "outputs": [
    {
     "data": {
      "text/html": [
       "<div>\n",
       "<style scoped>\n",
       "    .dataframe tbody tr th:only-of-type {\n",
       "        vertical-align: middle;\n",
       "    }\n",
       "\n",
       "    .dataframe tbody tr th {\n",
       "        vertical-align: top;\n",
       "    }\n",
       "\n",
       "    .dataframe thead th {\n",
       "        text-align: right;\n",
       "    }\n",
       "</style>\n",
       "<table border=\"1\" class=\"dataframe\">\n",
       "  <thead>\n",
       "    <tr style=\"text-align: right;\">\n",
       "      <th></th>\n",
       "      <th>ProductID</th>\n",
       "      <th>UserID</th>\n",
       "      <th>ReviewText</th>\n",
       "      <th>Rating</th>\n",
       "      <th>length of review</th>\n",
       "      <th>rating_type</th>\n",
       "      <th>new_review</th>\n",
       "      <th>compound_scores</th>\n",
       "    </tr>\n",
       "  </thead>\n",
       "  <tbody>\n",
       "    <tr>\n",
       "      <th>12217</th>\n",
       "      <td>B001EFMD8W</td>\n",
       "      <td>A2ZY49IDE6TY5I</td>\n",
       "      <td>Already own one Dyson, so getting a second one...</td>\n",
       "      <td>5.0</td>\n",
       "      <td>1680</td>\n",
       "      <td>Good</td>\n",
       "      <td>already one dyson getting second one difficul...</td>\n",
       "      <td>0.8503</td>\n",
       "    </tr>\n",
       "    <tr>\n",
       "      <th>16602</th>\n",
       "      <td>B002D47XO2</td>\n",
       "      <td>A2ZY49IDE6TY5I</td>\n",
       "      <td>I have owned this rechargeable handvac for alm...</td>\n",
       "      <td>4.0</td>\n",
       "      <td>1510</td>\n",
       "      <td>Good</td>\n",
       "      <td>owned rechargeable handvac almost year purcha...</td>\n",
       "      <td>0.9756</td>\n",
       "    </tr>\n",
       "    <tr>\n",
       "      <th>26089</th>\n",
       "      <td>B00FN1KKME</td>\n",
       "      <td>A2ZY49IDE6TY5I</td>\n",
       "      <td>This took a few hours to charge, but I wasn't ...</td>\n",
       "      <td>4.0</td>\n",
       "      <td>612</td>\n",
       "      <td>Good</td>\n",
       "      <td>took hours charge wasnt spending time figurin...</td>\n",
       "      <td>0.7447</td>\n",
       "    </tr>\n",
       "    <tr>\n",
       "      <th>27808</th>\n",
       "      <td>B00HNUFSLG</td>\n",
       "      <td>A2ZY49IDE6TY5I</td>\n",
       "      <td>This Dyson has replaced an inexpensive Hoover ...</td>\n",
       "      <td>5.0</td>\n",
       "      <td>2253</td>\n",
       "      <td>Good</td>\n",
       "      <td>dyson replaced inexpensive hoover windtunnel ...</td>\n",
       "      <td>0.9962</td>\n",
       "    </tr>\n",
       "    <tr>\n",
       "      <th>32443</th>\n",
       "      <td>B00R43I3XW</td>\n",
       "      <td>A2ZY49IDE6TY5I</td>\n",
       "      <td>The C1 Delphi is a surprisingly compact and ni...</td>\n",
       "      <td>5.0</td>\n",
       "      <td>3304</td>\n",
       "      <td>Good</td>\n",
       "      <td>c1 delphi surprisingly compact nimble caniste...</td>\n",
       "      <td>0.9989</td>\n",
       "    </tr>\n",
       "    <tr>\n",
       "      <th>34180</th>\n",
       "      <td>B00SMLJYC4</td>\n",
       "      <td>A2ZY49IDE6TY5I</td>\n",
       "      <td>I already own a compact Dyson that is very lig...</td>\n",
       "      <td>5.0</td>\n",
       "      <td>2116</td>\n",
       "      <td>Good</td>\n",
       "      <td>already compact dyson light well compact comp...</td>\n",
       "      <td>0.7659</td>\n",
       "    </tr>\n",
       "    <tr>\n",
       "      <th>34622</th>\n",
       "      <td>B00SO8P0AA</td>\n",
       "      <td>A2ZY49IDE6TY5I</td>\n",
       "      <td>This set contains all the frequently replaced ...</td>\n",
       "      <td>5.0</td>\n",
       "      <td>242</td>\n",
       "      <td>Good</td>\n",
       "      <td>set contains frequently replaced agraveccesso...</td>\n",
       "      <td>0.2960</td>\n",
       "    </tr>\n",
       "  </tbody>\n",
       "</table>\n",
       "</div>"
      ],
      "text/plain": [
       "        ProductID          UserID  \\\n",
       "12217  B001EFMD8W  A2ZY49IDE6TY5I   \n",
       "16602  B002D47XO2  A2ZY49IDE6TY5I   \n",
       "26089  B00FN1KKME  A2ZY49IDE6TY5I   \n",
       "27808  B00HNUFSLG  A2ZY49IDE6TY5I   \n",
       "32443  B00R43I3XW  A2ZY49IDE6TY5I   \n",
       "34180  B00SMLJYC4  A2ZY49IDE6TY5I   \n",
       "34622  B00SO8P0AA  A2ZY49IDE6TY5I   \n",
       "\n",
       "                                              ReviewText  Rating  \\\n",
       "12217  Already own one Dyson, so getting a second one...     5.0   \n",
       "16602  I have owned this rechargeable handvac for alm...     4.0   \n",
       "26089  This took a few hours to charge, but I wasn't ...     4.0   \n",
       "27808  This Dyson has replaced an inexpensive Hoover ...     5.0   \n",
       "32443  The C1 Delphi is a surprisingly compact and ni...     5.0   \n",
       "34180  I already own a compact Dyson that is very lig...     5.0   \n",
       "34622  This set contains all the frequently replaced ...     5.0   \n",
       "\n",
       "       length of review rating_type  \\\n",
       "12217              1680        Good   \n",
       "16602              1510        Good   \n",
       "26089               612        Good   \n",
       "27808              2253        Good   \n",
       "32443              3304        Good   \n",
       "34180              2116        Good   \n",
       "34622               242        Good   \n",
       "\n",
       "                                              new_review  compound_scores  \n",
       "12217   already one dyson getting second one difficul...           0.8503  \n",
       "16602   owned rechargeable handvac almost year purcha...           0.9756  \n",
       "26089   took hours charge wasnt spending time figurin...           0.7447  \n",
       "27808   dyson replaced inexpensive hoover windtunnel ...           0.9962  \n",
       "32443   c1 delphi surprisingly compact nimble caniste...           0.9989  \n",
       "34180   already compact dyson light well compact comp...           0.7659  \n",
       "34622   set contains frequently replaced agraveccesso...           0.2960  "
      ]
     },
     "execution_count": 40,
     "metadata": {},
     "output_type": "execute_result"
    }
   ],
   "source": [
    "df[df['UserID']=='A2ZY49IDE6TY5I']"
   ]
  },
  {
   "cell_type": "markdown",
   "metadata": {},
   "source": [
    "here is the list of the 7 reviews "
   ]
  },
  {
   "cell_type": "code",
   "execution_count": 41,
   "metadata": {},
   "outputs": [
    {
     "data": {
      "text/plain": [
       "<AxesSubplot:>"
      ]
     },
     "execution_count": 41,
     "metadata": {},
     "output_type": "execute_result"
    },
    {
     "data": {
      "image/png": "[encoded data removed]",
      "text/plain": [
       "<Figure size 432x288 with 2 Axes>"
      ]
     },
     "metadata": {
      "needs_background": "light"
     },
     "output_type": "display_data"
    }
   ],
   "source": [
    "sns.heatmap(df.isna())"
   ]
  },
  {
   "cell_type": "markdown",
   "metadata": {},
   "source": [
    "this shows there are no null values inside the dataset"
   ]
  },
  {
   "cell_type": "code",
   "execution_count": 42,
   "metadata": {},
   "outputs": [
    {
     "data": {
      "text/plain": [
       "<AxesSubplot:>"
      ]
     },
     "execution_count": 42,
     "metadata": {},
     "output_type": "execute_result"
    },
    {
     "data": {
      "image/png": "[encoded data removed]",
      "text/plain": [
       "<Figure size 432x288 with 2 Axes>"
      ]
     },
     "metadata": {
      "needs_background": "light"
     },
     "output_type": "display_data"
    }
   ],
   "source": [
    "sns.heatmap(df.corr(),annot=True)"
   ]
  },
  {
   "cell_type": "code",
   "execution_count": 47,
   "metadata": {},
   "outputs": [],
   "source": [
    "from sklearn.feature_extraction.text import CountVectorizer"
   ]
  },
  {
   "cell_type": "code",
   "execution_count": 48,
   "metadata": {},
   "outputs": [],
   "source": [
    "cv = CountVectorizer()"
   ]
  },
  {
   "cell_type": "code",
   "execution_count": 49,
   "metadata": {},
   "outputs": [],
   "source": [
    "data = cv.fit_transform(corpus).toarray()"
   ]
  },
  {
   "cell_type": "code",
   "execution_count": 50,
   "metadata": {},
   "outputs": [],
   "source": [
    "X = data\n",
    "y = df['Rating']"
   ]
  },
  {
   "cell_type": "code",
   "execution_count": 51,
   "metadata": {},
   "outputs": [],
   "source": [
    "from sklearn.model_selection import train_test_split"
   ]
  },
  {
   "cell_type": "code",
   "execution_count": 52,
   "metadata": {},
   "outputs": [],
   "source": [
    "X_train, X_test, y_train, y_test = train_test_split(X, y, test_size=0.4, random_state=101)"
   ]
  },
  {
   "cell_type": "code",
   "execution_count": 53,
   "metadata": {},
   "outputs": [],
   "source": [
    "from sklearn.naive_bayes import MultinomialNB"
   ]
  },
  {
   "cell_type": "code",
   "execution_count": 54,
   "metadata": {},
   "outputs": [],
   "source": [
    "nb = MultinomialNB()"
   ]
  },
  {
   "cell_type": "code",
   "execution_count": 55,
   "metadata": {},
   "outputs": [
    {
     "data": {
      "text/plain": [
       "MultinomialNB()"
      ]
     },
     "execution_count": 55,
     "metadata": {},
     "output_type": "execute_result"
    }
   ],
   "source": [
    "nb.fit(X_train,y_train)"
   ]
  },
  {
   "cell_type": "code",
   "execution_count": 56,
   "metadata": {},
   "outputs": [],
   "source": [
    "pred = nb.predict(X_test)"
   ]
  },
  {
   "cell_type": "code",
   "execution_count": 57,
   "metadata": {},
   "outputs": [],
   "source": [
    "from sklearn.metrics import classification_report,confusion_matrix"
   ]
  },
  {
   "cell_type": "code",
   "execution_count": 58,
   "metadata": {},
   "outputs": [
    {
     "name": "stdout",
     "output_type": "stream",
     "text": [
      "[[ 587   10   19  124  517]\n",
      " [ 152   36   30  176  453]\n",
      " [  93    4   59  322  794]\n",
      " [  42    6   17  544 2135]\n",
      " [  50    9   23  271 9505]]\n"
     ]
    }
   ],
   "source": [
    "print(confusion_matrix(y_test,pred))"
   ]
  },
  {
   "cell_type": "code",
   "execution_count": 59,
   "metadata": {},
   "outputs": [
    {
     "name": "stdout",
     "output_type": "stream",
     "text": [
      "              precision    recall  f1-score   support\n",
      "\n",
      "         1.0       0.64      0.47      0.54      1257\n",
      "         2.0       0.55      0.04      0.08       847\n",
      "         3.0       0.40      0.05      0.08      1272\n",
      "         4.0       0.38      0.20      0.26      2744\n",
      "         5.0       0.71      0.96      0.82      9858\n",
      "\n",
      "    accuracy                           0.67     15978\n",
      "   macro avg       0.54      0.34      0.36     15978\n",
      "weighted avg       0.61      0.67      0.60     15978\n",
      "\n"
     ]
    }
   ],
   "source": [
    "print(classification_report(y_test,pred))"
   ]
  },
  {
   "cell_type": "code",
   "execution_count": 77,
   "metadata": {},
   "outputs": [
    {
     "data": {
      "text/plain": [
       "Index(['ProductID', 'UserID', 'ReviewText', 'Rating', 'length of review',\n",
       "       'rating_type', 'new_review', 'compound_scores'],\n",
       "      dtype='object')"
      ]
     },
     "execution_count": 77,
     "metadata": {},
     "output_type": "execute_result"
    }
   ],
   "source": [
    "df.columns"
   ]
  },
  {
   "cell_type": "code",
   "execution_count": 78,
   "metadata": {},
   "outputs": [
    {
     "data": {
      "text/plain": [
       "array([5., 1., 5., ..., 5., 5., 4.])"
      ]
     },
     "execution_count": 78,
     "metadata": {},
     "output_type": "execute_result"
    }
   ],
   "source": [
    "pred"
   ]
  },
  {
   "cell_type": "code",
   "execution_count": 84,
   "metadata": {},
   "outputs": [
    {
     "data": {
      "text/plain": [
       "26668    5.0\n",
       "18391    1.0\n",
       "33322    3.0\n",
       "29030    4.0\n",
       "8929     1.0\n",
       "        ... \n",
       "39396    1.0\n",
       "782      5.0\n",
       "20209    4.0\n",
       "9181     5.0\n",
       "35366    3.0\n",
       "Name: Rating, Length: 15978, dtype: float64"
      ]
     },
     "execution_count": 84,
     "metadata": {},
     "output_type": "execute_result"
    }
   ],
   "source": [
    "y_test"
   ]
  }
 ],
 "metadata": {
  "kernelspec": {
   "display_name": "Python 3",
   "language": "python",
   "name": "python3"
  },
  "language_info": {
   "codemirror_mode": {
    "name": "ipython",
    "version": 3
   },
   "file_extension": ".py",
   "mimetype": "text/x-python",
   "name": "python",
   "nbconvert_exporter": "python",
   "pygments_lexer": "ipython3",
   "version": "3.8.5"
  }
 },
 "nbformat": 4,
 "nbformat_minor": 4
}
